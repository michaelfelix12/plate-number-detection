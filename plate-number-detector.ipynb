{
 "cells": [
  {
   "cell_type": "markdown",
   "metadata": {
    "id": "eL67n20ug3gR"
   },
   "source": [
    "# Plate Number Detection Program"
   ]
  },
  {
   "cell_type": "code",
   "execution_count": null,
   "metadata": {
    "id": "mN8x8DPgu9Kv"
   },
   "outputs": [],
   "source": [
    "!pip install --quiet --upgrade google-generativeai python-dotenv"
   ]
  },
  {
   "cell_type": "markdown",
   "metadata": {
    "id": "ZKxKHt2efRK4"
   },
   "source": [
    "## Setup, Import, and Initialization"
   ]
  },
  {
   "cell_type": "code",
   "execution_count": null,
   "metadata": {
    "id": "0x3xmmWrDtEH"
   },
   "outputs": [],
   "source": [
    "import google.generativeai as genai\n",
    "import PIL.Image\n",
    "import IPython.display as display\n",
    "\n",
    "from IPython.display import Markdown"
   ]
  },
  {
   "cell_type": "markdown",
   "metadata": {
    "id": "7g06qWUwfgJE"
   },
   "source": [
    "### Initialization"
   ]
  },
  {
   "cell_type": "markdown",
   "metadata": {},
   "source": [
    "#### Run in Google Collab"
   ]
  },
  {
   "cell_type": "code",
   "execution_count": null,
   "metadata": {
    "id": "d6lYXRcjthKV"
   },
   "outputs": [],
   "source": [
    "from google.colab import userdata\n",
    "import google.generativeai as genai\n",
    "\n",
    "# Retrieve the API key\n",
    "GOOGLE_API_KEY = userdata.get('GOOGLE_API_KEY')\n",
    "\n",
    "# Configure the API with the retrieved key\n",
    "genai.configure(api_key=GOOGLE_API_KEY)"
   ]
  },
  {
   "cell_type": "markdown",
   "metadata": {},
   "source": [
    "#### Run In Local"
   ]
  },
  {
   "cell_type": "code",
   "execution_count": null,
   "metadata": {},
   "outputs": [
    {
     "name": "stdout",
     "output_type": "stream",
     "text": [
      "API key configured successfully!\n"
     ]
    }
   ],
   "source": [
    "from dotenv import load_dotenv\n",
    "import os\n",
    "import google.generativeai as genai\n",
    "\n",
    "# Load environment variables and configure the API\n",
    "load_dotenv()\n",
    "api_key = os.getenv(\"GOOGLE_API_KEY\")\n",
    "\n",
    "if api_key:\n",
    "    genai.configure(api_key=api_key)\n",
    "    print(\"API key configured successfully!\")\n",
    "else:\n",
    "    print(\"API key not found. Please check your .env file.\")"
   ]
  },
  {
   "cell_type": "code",
   "execution_count": null,
   "metadata": {
    "id": "NJBVq8RGgaEt"
   },
   "outputs": [],
   "source": [
    "# Select the desired Gemini model\n",
    "model = genai.GenerativeModel(model_name=\"gemini-1.5-pro-latest\")"
   ]
  },
  {
   "cell_type": "markdown",
   "metadata": {
    "id": "sLJi9A6IY3JF"
   },
   "source": [
    "## Plate Number Detection"
   ]
  },
  {
   "cell_type": "code",
   "execution_count": null,
   "metadata": {
    "colab": {
     "base_uri": "https://localhost:8080/",
     "height": 785
    },
    "id": "XzMhQ8MWub5_",
    "outputId": "99735d4a-d056-4f87-f438-760abc4177f4"
   },
   "outputs": [],
   "source": [
    "# Load images\n",
    "images = {\n",
    "    \"car\": PIL.Image.open('car.jpg'),\n",
    "    \"motorcycle\": PIL.Image.open('motorcycle.jpeg'),\n",
    "    \"shoe\": PIL.Image.open('shoe.jpg')\n",
    "}\n",
    "\n",
    "# Select the image to analyze\n",
    "detection = images[\"shoe\"]\n",
    "\n",
    "# Display the selected image\n",
    "display.display(detection)"
   ]
  },
  {
   "cell_type": "markdown",
   "metadata": {
    "id": "nQjMHdWBgdxo"
   },
   "source": [
    "### Run Prompt to Detect Plate Number"
   ]
  },
  {
   "cell_type": "code",
   "execution_count": null,
   "metadata": {
    "colab": {
     "base_uri": "https://localhost:8080/",
     "height": 391
    },
    "id": "DJlKHZfsbQOX",
    "outputId": "df6466a6-081f-4ac8-8772-0a7c9010a175"
   },
   "outputs": [],
   "source": [
    "prompt = \"\"\"\n",
    "\n",
    "Identify the license plate number from an image and return the result in JSON format.\n",
    "The license plate must adhere to the INDONESIAN format exclusively; disregard formats from other countries.\n",
    "\n",
    "Provide the license plate number and its details in JSON format. Below are the descriptions of each field:\n",
    "- plat_no: The license plate number.\n",
    "- vehicle_type: The category or type of vehicle.\n",
    "- vehicle_color: The color of the vehicle.\n",
    "- plate_color: The background and foreground colors of the license plate.\n",
    "- area: The region corresponding to the prefix, based on the Indonesian license plate format (refer to Regulation of the Chief of the Indonesian National Police Number 7 of 2021).\n",
    "- sub_area: The sub-region determined by the combination of the prefix and postfix, following the same regulation.\n",
    "- plate_expired: The expiration date of the license plate.\n",
    "- is_expired: A boolean value (true/false) indicating whether the plate has expired, based on the current date and the expiration date.\n",
    "\n",
    "The license plate consists of three segments: prefix, number, and postfix.\n",
    "For instance, if the plate number is B 3738 BRK:\n",
    "- Prefix is B\n",
    "- Number if 3738\n",
    "- Postfix is BRK\n",
    "\n",
    "This is example of the json:\n",
    "{\n",
    "    \"plat_no\": \"D 3245 ZYX\",\n",
    "    \"vehicle\": \"Motorcycle\",\n",
    "    \"vehicle_color\": \"red\",\n",
    "    \"plate_color\": \"black and white\",\n",
    "    \"area\": \"Bandung\",\n",
    "    \"sub_area\": \"Bandung Barat\",\n",
    "    \"plate_expired\": \"March 2026\",\n",
    "    \"is_expired\": false,\n",
    "}\n",
    "\n",
    "\n",
    "If the image is not vehicle, please return this message\n",
    "{\n",
    "    \"message\": \"The image is not a vehicle\",\n",
    "}\n",
    "\"\"\"\n",
    "\n",
    "\n",
    "# Generate content based on the selected image and prompt\n",
    "response = model.generate_content([detection, prompt])\n",
    "\n",
    "# Display the generated content as markdown\n",
    "display(Markdown(response.text))"
   ]
  }
 ],
 "metadata": {
  "colab": {
   "provenance": []
  },
  "kernelspec": {
   "display_name": "base",
   "language": "python",
   "name": "python3"
  },
  "language_info": {
   "codemirror_mode": {
    "name": "ipython",
    "version": 3
   },
   "file_extension": ".py",
   "mimetype": "text/x-python",
   "name": "python",
   "nbconvert_exporter": "python",
   "pygments_lexer": "ipython3",
   "version": "3.8.5"
  }
 },
 "nbformat": 4,
 "nbformat_minor": 0
}
